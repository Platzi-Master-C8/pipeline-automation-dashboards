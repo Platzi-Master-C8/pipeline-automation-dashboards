{
  "nbformat": 4,
  "nbformat_minor": 0,
  "metadata": {
    "colab": {
      "name": "postgres_data.ipynb",
      "provenance": [],
      "collapsed_sections": []
    },
    "kernelspec": {
      "name": "python3",
      "display_name": "Python 3"
    },
    "language_info": {
      "name": "python"
    }
  },
  "cells": [
    {
      "cell_type": "markdown",
      "source": [
        "# 1. Workspace preparation"
      ],
      "metadata": {
        "id": "IgRRcVHwxRy5"
      }
    },
    {
      "cell_type": "code",
      "execution_count": 1,
      "metadata": {
        "colab": {
          "base_uri": "https://localhost:8080/"
        },
        "id": "lvIsEbbWrMeb",
        "outputId": "922a8ad6-3b79-43cc-897f-7f82feef2452"
      },
      "outputs": [
        {
          "output_type": "stream",
          "name": "stdout",
          "text": [
            "Collecting pygsheets\n",
            "  Downloading pygsheets-2.0.5-py2.py3-none-any.whl (147 kB)\n",
            "\u001b[?25l\r\u001b[K     |██▏                             | 10 kB 17.4 MB/s eta 0:00:01\r\u001b[K     |████▍                           | 20 kB 8.7 MB/s eta 0:00:01\r\u001b[K     |██████▋                         | 30 kB 7.2 MB/s eta 0:00:01\r\u001b[K     |████████▉                       | 40 kB 7.1 MB/s eta 0:00:01\r\u001b[K     |███████████                     | 51 kB 5.0 MB/s eta 0:00:01\r\u001b[K     |█████████████▎                  | 61 kB 5.2 MB/s eta 0:00:01\r\u001b[K     |███████████████▌                | 71 kB 5.1 MB/s eta 0:00:01\r\u001b[K     |█████████████████▊              | 81 kB 5.7 MB/s eta 0:00:01\r\u001b[K     |████████████████████            | 92 kB 4.7 MB/s eta 0:00:01\r\u001b[K     |██████████████████████▏         | 102 kB 5.0 MB/s eta 0:00:01\r\u001b[K     |████████████████████████▍       | 112 kB 5.0 MB/s eta 0:00:01\r\u001b[K     |██████████████████████████▋     | 122 kB 5.0 MB/s eta 0:00:01\r\u001b[K     |████████████████████████████▉   | 133 kB 5.0 MB/s eta 0:00:01\r\u001b[K     |███████████████████████████████ | 143 kB 5.0 MB/s eta 0:00:01\r\u001b[K     |████████████████████████████████| 147 kB 5.0 MB/s \n",
            "\u001b[?25hRequirement already satisfied: google-api-python-client>=1.5.5 in /usr/local/lib/python3.7/dist-packages (from pygsheets) (1.12.10)\n",
            "Requirement already satisfied: google-auth-oauthlib in /usr/local/lib/python3.7/dist-packages (from pygsheets) (0.4.6)\n",
            "Requirement already satisfied: google-auth<3dev,>=1.16.0 in /usr/local/lib/python3.7/dist-packages (from google-api-python-client>=1.5.5->pygsheets) (1.35.0)\n",
            "Requirement already satisfied: google-auth-httplib2>=0.0.3 in /usr/local/lib/python3.7/dist-packages (from google-api-python-client>=1.5.5->pygsheets) (0.0.4)\n",
            "Requirement already satisfied: six<2dev,>=1.13.0 in /usr/local/lib/python3.7/dist-packages (from google-api-python-client>=1.5.5->pygsheets) (1.15.0)\n",
            "Requirement already satisfied: google-api-core<3dev,>=1.21.0 in /usr/local/lib/python3.7/dist-packages (from google-api-python-client>=1.5.5->pygsheets) (1.26.3)\n",
            "Requirement already satisfied: httplib2<1dev,>=0.15.0 in /usr/local/lib/python3.7/dist-packages (from google-api-python-client>=1.5.5->pygsheets) (0.17.4)\n",
            "Requirement already satisfied: uritemplate<4dev,>=3.0.0 in /usr/local/lib/python3.7/dist-packages (from google-api-python-client>=1.5.5->pygsheets) (3.0.1)\n",
            "Requirement already satisfied: setuptools>=40.3.0 in /usr/local/lib/python3.7/dist-packages (from google-api-core<3dev,>=1.21.0->google-api-python-client>=1.5.5->pygsheets) (57.4.0)\n",
            "Requirement already satisfied: googleapis-common-protos<2.0dev,>=1.6.0 in /usr/local/lib/python3.7/dist-packages (from google-api-core<3dev,>=1.21.0->google-api-python-client>=1.5.5->pygsheets) (1.54.0)\n",
            "Requirement already satisfied: requests<3.0.0dev,>=2.18.0 in /usr/local/lib/python3.7/dist-packages (from google-api-core<3dev,>=1.21.0->google-api-python-client>=1.5.5->pygsheets) (2.23.0)\n",
            "Requirement already satisfied: protobuf>=3.12.0 in /usr/local/lib/python3.7/dist-packages (from google-api-core<3dev,>=1.21.0->google-api-python-client>=1.5.5->pygsheets) (3.17.3)\n",
            "Requirement already satisfied: packaging>=14.3 in /usr/local/lib/python3.7/dist-packages (from google-api-core<3dev,>=1.21.0->google-api-python-client>=1.5.5->pygsheets) (21.3)\n",
            "Requirement already satisfied: pytz in /usr/local/lib/python3.7/dist-packages (from google-api-core<3dev,>=1.21.0->google-api-python-client>=1.5.5->pygsheets) (2018.9)\n",
            "Requirement already satisfied: pyasn1-modules>=0.2.1 in /usr/local/lib/python3.7/dist-packages (from google-auth<3dev,>=1.16.0->google-api-python-client>=1.5.5->pygsheets) (0.2.8)\n",
            "Requirement already satisfied: cachetools<5.0,>=2.0.0 in /usr/local/lib/python3.7/dist-packages (from google-auth<3dev,>=1.16.0->google-api-python-client>=1.5.5->pygsheets) (4.2.4)\n",
            "Requirement already satisfied: rsa<5,>=3.1.4 in /usr/local/lib/python3.7/dist-packages (from google-auth<3dev,>=1.16.0->google-api-python-client>=1.5.5->pygsheets) (4.8)\n",
            "Requirement already satisfied: pyparsing!=3.0.5,>=2.0.2 in /usr/local/lib/python3.7/dist-packages (from packaging>=14.3->google-api-core<3dev,>=1.21.0->google-api-python-client>=1.5.5->pygsheets) (3.0.7)\n",
            "Requirement already satisfied: pyasn1<0.5.0,>=0.4.6 in /usr/local/lib/python3.7/dist-packages (from pyasn1-modules>=0.2.1->google-auth<3dev,>=1.16.0->google-api-python-client>=1.5.5->pygsheets) (0.4.8)\n",
            "Requirement already satisfied: urllib3!=1.25.0,!=1.25.1,<1.26,>=1.21.1 in /usr/local/lib/python3.7/dist-packages (from requests<3.0.0dev,>=2.18.0->google-api-core<3dev,>=1.21.0->google-api-python-client>=1.5.5->pygsheets) (1.24.3)\n",
            "Requirement already satisfied: idna<3,>=2.5 in /usr/local/lib/python3.7/dist-packages (from requests<3.0.0dev,>=2.18.0->google-api-core<3dev,>=1.21.0->google-api-python-client>=1.5.5->pygsheets) (2.10)\n",
            "Requirement already satisfied: certifi>=2017.4.17 in /usr/local/lib/python3.7/dist-packages (from requests<3.0.0dev,>=2.18.0->google-api-core<3dev,>=1.21.0->google-api-python-client>=1.5.5->pygsheets) (2021.10.8)\n",
            "Requirement already satisfied: chardet<4,>=3.0.2 in /usr/local/lib/python3.7/dist-packages (from requests<3.0.0dev,>=2.18.0->google-api-core<3dev,>=1.21.0->google-api-python-client>=1.5.5->pygsheets) (3.0.4)\n",
            "Requirement already satisfied: requests-oauthlib>=0.7.0 in /usr/local/lib/python3.7/dist-packages (from google-auth-oauthlib->pygsheets) (1.3.1)\n",
            "Requirement already satisfied: oauthlib>=3.0.0 in /usr/local/lib/python3.7/dist-packages (from requests-oauthlib>=0.7.0->google-auth-oauthlib->pygsheets) (3.2.0)\n",
            "Installing collected packages: pygsheets\n",
            "Successfully installed pygsheets-2.0.5\n"
          ]
        }
      ],
      "source": [
        "!pip install pygsheets"
      ]
    },
    {
      "cell_type": "code",
      "source": [
        "import pandas as pd\n",
        "import pygsheets\n",
        "import psycopg2"
      ],
      "metadata": {
        "colab": {
          "base_uri": "https://localhost:8080/"
        },
        "id": "p-RRuadfrY2_",
        "outputId": "8089cf0e-4cfe-4b12-ffd8-f1abb5e4ec06"
      },
      "execution_count": null,
      "outputs": [
        {
          "output_type": "stream",
          "name": "stderr",
          "text": [
            "/usr/local/lib/python3.7/dist-packages/psycopg2/__init__.py:144: UserWarning: The psycopg2 wheel package will be renamed from release 2.8; in order to keep installing from binary please use \"pip install psycopg2-binary\" instead. For details see: <http://initd.org/psycopg/docs/install.html#binary-install-from-pypi>.\n",
            "  \"\"\")\n"
          ]
        }
      ]
    },
    {
      "cell_type": "markdown",
      "source": [
        "# 2. Open a spreadsheet to receive the cleaned data"
      ],
      "metadata": {
        "id": "jQAjE0xKxm5-"
      }
    },
    {
      "cell_type": "code",
      "source": [
        "g_sheets = pygsheets.authorize(service_file='/content/drive/MyDrive/automation_dashboards/dashboard-admon-project.json')"
      ],
      "metadata": {
        "id": "UGUuWFHSybBl"
      },
      "execution_count": null,
      "outputs": []
    },
    {
      "cell_type": "code",
      "source": [
        "modeling = g_sheets.open('modeling_data')\n",
        "w_modeling = modeling.sheet1"
      ],
      "metadata": {
        "id": "vBJz9AesyWVd"
      },
      "execution_count": null,
      "outputs": []
    },
    {
      "cell_type": "markdown",
      "source": [
        "# 3. Connect with database"
      ],
      "metadata": {
        "id": "XQnWq4V5GLSh"
      }
    },
    {
      "cell_type": "code",
      "source": [
        "conn = psycopg2.connect(\n",
        "        host='ec2-3-230-199-240.compute-1.amazonaws.com',\n",
        "        database='d3df54jud662it',\n",
        "        user='avcobtmtntvzvv',\n",
        "        password='9f675a820ce2a07d446dd03981071563fedb390ed9ccbbacf8cc3b70e7d16e0e')"
      ],
      "metadata": {
        "id": "-9XGzmVkE6j6"
      },
      "execution_count": null,
      "outputs": []
    },
    {
      "cell_type": "markdown",
      "source": [
        "## 3.1 Get tables from database"
      ],
      "metadata": {
        "id": "XoBZPcX1Gq3E"
      }
    },
    {
      "cell_type": "code",
      "source": [
        "cursor_cities = conn.cursor()\n",
        "q_cities = '''SELECT * FROM cities ORDER BY City_id'''\n",
        "\n",
        "cursor_countries = conn.cursor()\n",
        "q_countries = '''SELECT * FROM countries'''\n",
        "\n",
        "cursor_countries_cities = conn.cursor()\n",
        "q_countries_cities = '''SELECT * FROM countries_cities ORDER BY country_id'''\n",
        "\n",
        "cursor_users = conn.cursor()\n",
        "q_users = '''SELECT *, EXTRACT (MONTH FROM created_at) AS created_month\n",
        "FROM users;'''\n",
        "\n",
        "cursor_professionals = conn.cursor()\n",
        "q_professionals = '''SELECT * FROM professionals'''\n",
        "\n",
        "cursor_sessions = conn.cursor()\n",
        "q_sessions = '''SELECT *, EXTRACT (MONTH FROM date_login) AS active_month\n",
        "from sessions;'''"
      ],
      "metadata": {
        "id": "7uu1D0SjGuRw"
      },
      "execution_count": null,
      "outputs": []
    },
    {
      "cell_type": "markdown",
      "source": [
        "## 3.2 Extract the column names"
      ],
      "metadata": {
        "id": "5zMOkKPKG6no"
      }
    },
    {
      "cell_type": "code",
      "source": [
        "# Cities\n",
        "\n",
        "cursor_cities.execute(q_cities)\n",
        "cities_records = cursor_cities.fetchall()\n",
        "\n",
        "cities_col_names = []\n",
        "for col_name in cursor_cities.description:\n",
        "    cities_col_names.append(col_name[0])"
      ],
      "metadata": {
        "id": "fvlTBvekG9MA"
      },
      "execution_count": null,
      "outputs": []
    },
    {
      "cell_type": "code",
      "source": [
        "# Countries\n",
        "\n",
        "cursor_countries.execute(q_countries)\n",
        "countries_records = cursor_countries.fetchall()\n",
        "\n",
        "countries_col_names = []\n",
        "for col_name in cursor_countries.description:\n",
        "    countries_col_names.append(col_name[0])"
      ],
      "metadata": {
        "id": "Pu84bJcmN-xF"
      },
      "execution_count": null,
      "outputs": []
    },
    {
      "cell_type": "code",
      "source": [
        "# Countries_cities\n",
        "\n",
        "cursor_countries_cities.execute(q_countries_cities)\n",
        "countries_cities_records = cursor_countries_cities.fetchall()\n",
        "\n",
        "countries_cities_col_names = []\n",
        "for col_name in cursor_countries_cities.description:\n",
        "    countries_cities_col_names.append(col_name[0])"
      ],
      "metadata": {
        "id": "vMNtT2JMOFbe"
      },
      "execution_count": null,
      "outputs": []
    },
    {
      "cell_type": "code",
      "source": [
        "# Users\n",
        "\n",
        "cursor_users.execute(q_users)\n",
        "users_records = cursor_users.fetchall()\n",
        "\n",
        "users_col_names = []\n",
        "for col_name in cursor_users.description:\n",
        "    users_col_names.append(col_name[0])"
      ],
      "metadata": {
        "id": "1C8oEIZmOIo3"
      },
      "execution_count": null,
      "outputs": []
    },
    {
      "cell_type": "code",
      "source": [
        "# Professionals\n",
        "\n",
        "cursor_professionals.execute(q_professionals)\n",
        "professionals_records = cursor_professionals.fetchall()\n",
        "\n",
        "professionals_col_names = []\n",
        "for col_name in cursor_professionals.description:\n",
        "    professionals_col_names.append(col_name[0])"
      ],
      "metadata": {
        "id": "p_VRG4AUOLs3"
      },
      "execution_count": null,
      "outputs": []
    },
    {
      "cell_type": "code",
      "source": [
        "# Sessions\n",
        "\n",
        "cursor_sessions.execute(q_sessions)\n",
        "sessions_records = cursor_sessions.fetchall()\n",
        "\n",
        "sessions_col_names = []\n",
        "for col_name in cursor_sessions.description:\n",
        "    sessions_col_names.append(col_name[0])"
      ],
      "metadata": {
        "id": "0OdTiWTtOQhv"
      },
      "execution_count": null,
      "outputs": []
    },
    {
      "cell_type": "markdown",
      "source": [
        "# 4. Become in Dataframes"
      ],
      "metadata": {
        "id": "-bd6G9TiOVNx"
      }
    },
    {
      "cell_type": "code",
      "source": [
        "# Countries\n",
        "df_countries = pd.DataFrame(countries_records, columns=countries_col_names)\n",
        "df_countries"
      ],
      "metadata": {
        "id": "Bz4AUYuDOhZk"
      },
      "execution_count": null,
      "outputs": []
    },
    {
      "cell_type": "code",
      "source": [
        "df_countries.rename(columns={'name': 'country_name'}, inplace=True)\n",
        "df_countries.drop(['created_at','created_by','updated_at','updated_by'], 1, inplace=True)"
      ],
      "metadata": {
        "id": "V20bjo4_O2L6"
      },
      "execution_count": null,
      "outputs": []
    },
    {
      "cell_type": "code",
      "source": [
        "#Cities\n",
        "df_cities = pd.DataFrame(cities_records, columns=cities_col_names)\n",
        "df_cities"
      ],
      "metadata": {
        "id": "cQtXsuokO6-h"
      },
      "execution_count": null,
      "outputs": []
    },
    {
      "cell_type": "code",
      "source": [
        "df_cities.rename(columns={'name': 'city_name'}, inplace=True)\n",
        "df_cities.drop(['created_at','created_by','updated_at','updated_by'], 1, inplace=True)"
      ],
      "metadata": {
        "id": "3ks-C3_lO_R6"
      },
      "execution_count": null,
      "outputs": []
    },
    {
      "cell_type": "code",
      "source": [
        "# Countries and Cities\n",
        "df_countries_cities = pd.DataFrame(countries_cities_records, columns=countries_cities_col_names)\n",
        "df_countries_cities"
      ],
      "metadata": {
        "id": "Yjqz9U4xO_06"
      },
      "execution_count": null,
      "outputs": []
    },
    {
      "cell_type": "code",
      "source": [
        "# Users\n",
        "df_users = pd.DataFrame(users_records, columns=users_col_names)\n",
        "df_users"
      ],
      "metadata": {
        "id": "9_frApvYPDnC"
      },
      "execution_count": null,
      "outputs": []
    },
    {
      "cell_type": "code",
      "source": [
        "df_users.rename(columns={'name': 'user_name', 'created_at': 'user_created_at'}, inplace=True)\n",
        "df_users.drop(['email','password','profile_picture','created_by','updated_at','updated_by'], 1, inplace=True)"
      ],
      "metadata": {
        "id": "FyjUajVePHAt"
      },
      "execution_count": null,
      "outputs": []
    },
    {
      "cell_type": "code",
      "source": [
        "#Professionals\n",
        "df_professionals = pd.DataFrame(professionals_records, columns=professionals_col_names)\n",
        "df_professionals"
      ],
      "metadata": {
        "id": "YB8Mt7xJPMRN"
      },
      "execution_count": null,
      "outputs": []
    },
    {
      "cell_type": "code",
      "source": [
        "df_professionals.drop(['phone_number','subdomain','description','created_at','created_by','updated_at','updated_by'], 1, inplace=True)"
      ],
      "metadata": {
        "id": "kIi1cr0bPO-U"
      },
      "execution_count": null,
      "outputs": []
    },
    {
      "cell_type": "code",
      "source": [
        "#Sessions\n",
        "df_sessions = pd.DataFrame(sessions_records, columns=sessions_col_names)\n",
        "df_sessions"
      ],
      "metadata": {
        "id": "OCRi3olAPRt2"
      },
      "execution_count": null,
      "outputs": []
    },
    {
      "cell_type": "markdown",
      "source": [
        "# 5. Merge all dataframes"
      ],
      "metadata": {
        "id": "uzyppFtJPcuK"
      }
    },
    {
      "cell_type": "markdown",
      "source": [
        "Cities and Countries"
      ],
      "metadata": {
        "id": "hy_Zw7izPwa3"
      }
    },
    {
      "cell_type": "code",
      "source": [
        "df_countries_pivote = pd.merge(df_countries, df_countries_cities, on='country_id')"
      ],
      "metadata": {
        "id": "Kn0Hl294Pm2D"
      },
      "execution_count": null,
      "outputs": []
    },
    {
      "cell_type": "code",
      "source": [
        "df_cities_and_countries = pd.merge(df_countries_pivote, df_cities, on='city_id')"
      ],
      "metadata": {
        "id": "vykNkDYkPohi"
      },
      "execution_count": null,
      "outputs": []
    },
    {
      "cell_type": "markdown",
      "source": [
        "Professionals and users"
      ],
      "metadata": {
        "id": "Z8wFkmCbPza7"
      }
    },
    {
      "cell_type": "code",
      "source": [
        "df_professionals['user_id'] = df_professionals['professional_id']"
      ],
      "metadata": {
        "id": "kN0nFGKSP3ms"
      },
      "execution_count": null,
      "outputs": []
    },
    {
      "cell_type": "code",
      "source": [
        "# # to change use .astype() \n",
        "# df_professionals['user_id'] = df_professionals.user_id.astype(int)"
      ],
      "metadata": {
        "id": "DzQuYsQ8P8pd"
      },
      "execution_count": null,
      "outputs": []
    },
    {
      "cell_type": "code",
      "source": [
        "df_professionals_users = pd.merge(df_professionals, df_users, on='user_id')"
      ],
      "metadata": {
        "id": "0ngWryPXP_qW"
      },
      "execution_count": null,
      "outputs": []
    },
    {
      "cell_type": "markdown",
      "source": [
        "Professional_users and countries"
      ],
      "metadata": {
        "id": "xQETVvFiQFJI"
      }
    },
    {
      "cell_type": "code",
      "source": [
        "df_countries['country_id'] = df_countries.country_id.astype(int)"
      ],
      "metadata": {
        "id": "ncGF-PN3QLch"
      },
      "execution_count": null,
      "outputs": []
    },
    {
      "cell_type": "code",
      "source": [
        "df_professionals_countries = pd.merge(df_professionals_users, df_countries, on='country_id')\n",
        "df_professionals_countries"
      ],
      "metadata": {
        "colab": {
          "base_uri": "https://localhost:8080/",
          "height": 113
        },
        "id": "3Sda68IeQOkM",
        "outputId": "3e25a0a0-1ee4-4ab8-d3ba-0737beec173a"
      },
      "execution_count": null,
      "outputs": [
        {
          "output_type": "execute_result",
          "data": {
            "text/html": [
              "\n",
              "  <div id=\"df-d66cac4b-4adb-457f-a594-5179b27cc637\">\n",
              "    <div class=\"colab-df-container\">\n",
              "      <div>\n",
              "<style scoped>\n",
              "    .dataframe tbody tr th:only-of-type {\n",
              "        vertical-align: middle;\n",
              "    }\n",
              "\n",
              "    .dataframe tbody tr th {\n",
              "        vertical-align: top;\n",
              "    }\n",
              "\n",
              "    .dataframe thead th {\n",
              "        text-align: right;\n",
              "    }\n",
              "</style>\n",
              "<table border=\"1\" class=\"dataframe\">\n",
              "  <thead>\n",
              "    <tr style=\"text-align: right;\">\n",
              "      <th></th>\n",
              "      <th>professional_id</th>\n",
              "      <th>first_name</th>\n",
              "      <th>last_name</th>\n",
              "      <th>birth_date</th>\n",
              "      <th>gender</th>\n",
              "      <th>english_level</th>\n",
              "      <th>looking_job</th>\n",
              "      <th>location_preference</th>\n",
              "      <th>user_id</th>\n",
              "      <th>user_name</th>\n",
              "      <th>active</th>\n",
              "      <th>user_created_at</th>\n",
              "      <th>role_id</th>\n",
              "      <th>created_month</th>\n",
              "      <th>country_id</th>\n",
              "      <th>country_name</th>\n",
              "    </tr>\n",
              "  </thead>\n",
              "  <tbody>\n",
              "  </tbody>\n",
              "</table>\n",
              "</div>\n",
              "      <button class=\"colab-df-convert\" onclick=\"convertToInteractive('df-d66cac4b-4adb-457f-a594-5179b27cc637')\"\n",
              "              title=\"Convert this dataframe to an interactive table.\"\n",
              "              style=\"display:none;\">\n",
              "        \n",
              "  <svg xmlns=\"http://www.w3.org/2000/svg\" height=\"24px\"viewBox=\"0 0 24 24\"\n",
              "       width=\"24px\">\n",
              "    <path d=\"M0 0h24v24H0V0z\" fill=\"none\"/>\n",
              "    <path d=\"M18.56 5.44l.94 2.06.94-2.06 2.06-.94-2.06-.94-.94-2.06-.94 2.06-2.06.94zm-11 1L8.5 8.5l.94-2.06 2.06-.94-2.06-.94L8.5 2.5l-.94 2.06-2.06.94zm10 10l.94 2.06.94-2.06 2.06-.94-2.06-.94-.94-2.06-.94 2.06-2.06.94z\"/><path d=\"M17.41 7.96l-1.37-1.37c-.4-.4-.92-.59-1.43-.59-.52 0-1.04.2-1.43.59L10.3 9.45l-7.72 7.72c-.78.78-.78 2.05 0 2.83L4 21.41c.39.39.9.59 1.41.59.51 0 1.02-.2 1.41-.59l7.78-7.78 2.81-2.81c.8-.78.8-2.07 0-2.86zM5.41 20L4 18.59l7.72-7.72 1.47 1.35L5.41 20z\"/>\n",
              "  </svg>\n",
              "      </button>\n",
              "      \n",
              "  <style>\n",
              "    .colab-df-container {\n",
              "      display:flex;\n",
              "      flex-wrap:wrap;\n",
              "      gap: 12px;\n",
              "    }\n",
              "\n",
              "    .colab-df-convert {\n",
              "      background-color: #E8F0FE;\n",
              "      border: none;\n",
              "      border-radius: 50%;\n",
              "      cursor: pointer;\n",
              "      display: none;\n",
              "      fill: #1967D2;\n",
              "      height: 32px;\n",
              "      padding: 0 0 0 0;\n",
              "      width: 32px;\n",
              "    }\n",
              "\n",
              "    .colab-df-convert:hover {\n",
              "      background-color: #E2EBFA;\n",
              "      box-shadow: 0px 1px 2px rgba(60, 64, 67, 0.3), 0px 1px 3px 1px rgba(60, 64, 67, 0.15);\n",
              "      fill: #174EA6;\n",
              "    }\n",
              "\n",
              "    [theme=dark] .colab-df-convert {\n",
              "      background-color: #3B4455;\n",
              "      fill: #D2E3FC;\n",
              "    }\n",
              "\n",
              "    [theme=dark] .colab-df-convert:hover {\n",
              "      background-color: #434B5C;\n",
              "      box-shadow: 0px 1px 3px 1px rgba(0, 0, 0, 0.15);\n",
              "      filter: drop-shadow(0px 1px 2px rgba(0, 0, 0, 0.3));\n",
              "      fill: #FFFFFF;\n",
              "    }\n",
              "  </style>\n",
              "\n",
              "      <script>\n",
              "        const buttonEl =\n",
              "          document.querySelector('#df-d66cac4b-4adb-457f-a594-5179b27cc637 button.colab-df-convert');\n",
              "        buttonEl.style.display =\n",
              "          google.colab.kernel.accessAllowed ? 'block' : 'none';\n",
              "\n",
              "        async function convertToInteractive(key) {\n",
              "          const element = document.querySelector('#df-d66cac4b-4adb-457f-a594-5179b27cc637');\n",
              "          const dataTable =\n",
              "            await google.colab.kernel.invokeFunction('convertToInteractive',\n",
              "                                                     [key], {});\n",
              "          if (!dataTable) return;\n",
              "\n",
              "          const docLinkHtml = 'Like what you see? Visit the ' +\n",
              "            '<a target=\"_blank\" href=https://colab.research.google.com/notebooks/data_table.ipynb>data table notebook</a>'\n",
              "            + ' to learn more about interactive tables.';\n",
              "          element.innerHTML = '';\n",
              "          dataTable['output_type'] = 'display_data';\n",
              "          await google.colab.output.renderOutput(dataTable, element);\n",
              "          const docLink = document.createElement('div');\n",
              "          docLink.innerHTML = docLinkHtml;\n",
              "          element.appendChild(docLink);\n",
              "        }\n",
              "      </script>\n",
              "    </div>\n",
              "  </div>\n",
              "  "
            ],
            "text/plain": [
              "Empty DataFrame\n",
              "Columns: [professional_id, first_name, last_name, birth_date, gender, english_level, looking_job, location_preference, user_id, user_name, active, user_created_at, role_id, created_month, country_id, country_name]\n",
              "Index: []"
            ]
          },
          "metadata": {},
          "execution_count": 34
        }
      ]
    },
    {
      "cell_type": "markdown",
      "source": [
        "Data Modelin"
      ],
      "metadata": {
        "id": "G5nOMBEpQVG_"
      }
    },
    {
      "cell_type": "code",
      "source": [
        "df_modeling = pd.merge(df_sessions, df_professionals_countries, on='user_id')\n",
        "df_modeling"
      ],
      "metadata": {
        "colab": {
          "base_uri": "https://localhost:8080/",
          "height": 113
        },
        "id": "VI2HJDA_QYIc",
        "outputId": "7e9519df-c34f-496e-e78c-6c7fbb419cdc"
      },
      "execution_count": null,
      "outputs": [
        {
          "output_type": "execute_result",
          "data": {
            "text/html": [
              "\n",
              "  <div id=\"df-d8b7bc1a-f1da-4ce9-b166-2f93b1164f6a\">\n",
              "    <div class=\"colab-df-container\">\n",
              "      <div>\n",
              "<style scoped>\n",
              "    .dataframe tbody tr th:only-of-type {\n",
              "        vertical-align: middle;\n",
              "    }\n",
              "\n",
              "    .dataframe tbody tr th {\n",
              "        vertical-align: top;\n",
              "    }\n",
              "\n",
              "    .dataframe thead th {\n",
              "        text-align: right;\n",
              "    }\n",
              "</style>\n",
              "<table border=\"1\" class=\"dataframe\">\n",
              "  <thead>\n",
              "    <tr style=\"text-align: right;\">\n",
              "      <th></th>\n",
              "      <th>session_id</th>\n",
              "      <th>ip_address</th>\n",
              "      <th>devices</th>\n",
              "      <th>OS</th>\n",
              "      <th>browser</th>\n",
              "      <th>date_login</th>\n",
              "      <th>date_logout</th>\n",
              "      <th>active_month</th>\n",
              "      <th>professional_id</th>\n",
              "      <th>first_name</th>\n",
              "      <th>last_name</th>\n",
              "      <th>birth_date</th>\n",
              "      <th>gender</th>\n",
              "      <th>english_level</th>\n",
              "      <th>looking_job</th>\n",
              "      <th>location_preference</th>\n",
              "      <th>user_id</th>\n",
              "      <th>user_name</th>\n",
              "      <th>active</th>\n",
              "      <th>user_created_at</th>\n",
              "      <th>role_id</th>\n",
              "      <th>created_month</th>\n",
              "      <th>country_id</th>\n",
              "      <th>country_name</th>\n",
              "    </tr>\n",
              "  </thead>\n",
              "  <tbody>\n",
              "  </tbody>\n",
              "</table>\n",
              "</div>\n",
              "      <button class=\"colab-df-convert\" onclick=\"convertToInteractive('df-d8b7bc1a-f1da-4ce9-b166-2f93b1164f6a')\"\n",
              "              title=\"Convert this dataframe to an interactive table.\"\n",
              "              style=\"display:none;\">\n",
              "        \n",
              "  <svg xmlns=\"http://www.w3.org/2000/svg\" height=\"24px\"viewBox=\"0 0 24 24\"\n",
              "       width=\"24px\">\n",
              "    <path d=\"M0 0h24v24H0V0z\" fill=\"none\"/>\n",
              "    <path d=\"M18.56 5.44l.94 2.06.94-2.06 2.06-.94-2.06-.94-.94-2.06-.94 2.06-2.06.94zm-11 1L8.5 8.5l.94-2.06 2.06-.94-2.06-.94L8.5 2.5l-.94 2.06-2.06.94zm10 10l.94 2.06.94-2.06 2.06-.94-2.06-.94-.94-2.06-.94 2.06-2.06.94z\"/><path d=\"M17.41 7.96l-1.37-1.37c-.4-.4-.92-.59-1.43-.59-.52 0-1.04.2-1.43.59L10.3 9.45l-7.72 7.72c-.78.78-.78 2.05 0 2.83L4 21.41c.39.39.9.59 1.41.59.51 0 1.02-.2 1.41-.59l7.78-7.78 2.81-2.81c.8-.78.8-2.07 0-2.86zM5.41 20L4 18.59l7.72-7.72 1.47 1.35L5.41 20z\"/>\n",
              "  </svg>\n",
              "      </button>\n",
              "      \n",
              "  <style>\n",
              "    .colab-df-container {\n",
              "      display:flex;\n",
              "      flex-wrap:wrap;\n",
              "      gap: 12px;\n",
              "    }\n",
              "\n",
              "    .colab-df-convert {\n",
              "      background-color: #E8F0FE;\n",
              "      border: none;\n",
              "      border-radius: 50%;\n",
              "      cursor: pointer;\n",
              "      display: none;\n",
              "      fill: #1967D2;\n",
              "      height: 32px;\n",
              "      padding: 0 0 0 0;\n",
              "      width: 32px;\n",
              "    }\n",
              "\n",
              "    .colab-df-convert:hover {\n",
              "      background-color: #E2EBFA;\n",
              "      box-shadow: 0px 1px 2px rgba(60, 64, 67, 0.3), 0px 1px 3px 1px rgba(60, 64, 67, 0.15);\n",
              "      fill: #174EA6;\n",
              "    }\n",
              "\n",
              "    [theme=dark] .colab-df-convert {\n",
              "      background-color: #3B4455;\n",
              "      fill: #D2E3FC;\n",
              "    }\n",
              "\n",
              "    [theme=dark] .colab-df-convert:hover {\n",
              "      background-color: #434B5C;\n",
              "      box-shadow: 0px 1px 3px 1px rgba(0, 0, 0, 0.15);\n",
              "      filter: drop-shadow(0px 1px 2px rgba(0, 0, 0, 0.3));\n",
              "      fill: #FFFFFF;\n",
              "    }\n",
              "  </style>\n",
              "\n",
              "      <script>\n",
              "        const buttonEl =\n",
              "          document.querySelector('#df-d8b7bc1a-f1da-4ce9-b166-2f93b1164f6a button.colab-df-convert');\n",
              "        buttonEl.style.display =\n",
              "          google.colab.kernel.accessAllowed ? 'block' : 'none';\n",
              "\n",
              "        async function convertToInteractive(key) {\n",
              "          const element = document.querySelector('#df-d8b7bc1a-f1da-4ce9-b166-2f93b1164f6a');\n",
              "          const dataTable =\n",
              "            await google.colab.kernel.invokeFunction('convertToInteractive',\n",
              "                                                     [key], {});\n",
              "          if (!dataTable) return;\n",
              "\n",
              "          const docLinkHtml = 'Like what you see? Visit the ' +\n",
              "            '<a target=\"_blank\" href=https://colab.research.google.com/notebooks/data_table.ipynb>data table notebook</a>'\n",
              "            + ' to learn more about interactive tables.';\n",
              "          element.innerHTML = '';\n",
              "          dataTable['output_type'] = 'display_data';\n",
              "          await google.colab.output.renderOutput(dataTable, element);\n",
              "          const docLink = document.createElement('div');\n",
              "          docLink.innerHTML = docLinkHtml;\n",
              "          element.appendChild(docLink);\n",
              "        }\n",
              "      </script>\n",
              "    </div>\n",
              "  </div>\n",
              "  "
            ],
            "text/plain": [
              "Empty DataFrame\n",
              "Columns: [session_id, ip_address, devices, OS, browser, date_login, date_logout, active_month, professional_id, first_name, last_name, birth_date, gender, english_level, looking_job, location_preference, user_id, user_name, active, user_created_at, role_id, created_month, country_id, country_name]\n",
              "Index: []"
            ]
          },
          "metadata": {},
          "execution_count": 35
        }
      ]
    },
    {
      "cell_type": "markdown",
      "source": [
        "\n",
        "# 6. Send data to a spreadsheets"
      ],
      "metadata": {
        "id": "ET3F6fLdQeSV"
      }
    },
    {
      "cell_type": "code",
      "source": [
        "w_modeling.set_dataframe(df_modeling,(1,1))"
      ],
      "metadata": {
        "id": "TZCIISU0Qsnf"
      },
      "execution_count": null,
      "outputs": []
    }
  ]
}